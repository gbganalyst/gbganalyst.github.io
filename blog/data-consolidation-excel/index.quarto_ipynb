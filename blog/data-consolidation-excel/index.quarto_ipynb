{
  "cells": [
    {
      "cell_type": "markdown",
      "metadata": {},
      "source": [
        "---\n",
        "title: \"Data Consolidation: Automatically Merge Excel Sheets with Python\"\n",
        "description: |\n",
        "  Learn how to dynamically consolidate data from multiple Excel sheets into a single pandas DataFrame using Python. This tutorial covers automating sheet retrieval, merging data efficiently, and tracking source sheets—all while simplifying your data processing workflow. Perfect for streamlining recurring reports and handling complex datasets!\n",
        "date: \"11-10-2022\"\n",
        "date-modified: \"09-05-2024\"\n",
        "jupyter: python3\n",
        "categories: \n",
        "  - Python\n",
        "image: pandas.jpg\n",
        "format:\n",
        "  html:\n",
        "    df_print: paged\n",
        "    fig-cap-location: bottom\n",
        "    include-before-body: ../../html/margin_image.html\n",
        "    include-after-body: ../../html/blog_footer.html\n",
        "    code-fold: false\n",
        "    code-tools: true\n",
        "editor: \n",
        "  markdown: \n",
        "    wrap: sentence\n",
        "resources: \n",
        "  - \"pandas.jpg\"\n",
        "---\n",
        "\n",
        "\n",
        "# Introduction\n",
        "\n",
        "In this tutorial, we will demonstrate how to automatically consolidate data from multiple sheets of an Excel file into a single pandas DataFrame.\n",
        "This approach is particularly useful when working with large Excel files that contain several sheets, especially when the number of sheets is unknown or subject to change.\n",
        "\n",
        "By the end of this tutorial, you'll be able to:\n",
        "\n",
        "-   Dynamically retrieve all sheet names from an Excel file.\n",
        "\n",
        "-   Read data from each sheet and combine them into a single DataFrame.\n",
        "\n",
        "-   Add a column to the final DataFrame that tracks the source sheet for each row.\n",
        "\n",
        "We'll be using Python's popular libraries—`pandas` for data manipulation and `numpy` for numerical operations.\n",
        "\n",
        "Once you have the `numpy` and `pandas` libraries installed, start by importing them.\n",
        "We will import `numpy` for numerical operations and `pandas` for data handling.\n"
      ],
      "id": "1380c2d7"
    },
    {
      "cell_type": "code",
      "metadata": {},
      "source": [
        "import numpy as np\n",
        "import pandas as pd"
      ],
      "id": "6e530584",
      "execution_count": null,
      "outputs": []
    },
    {
      "cell_type": "markdown",
      "metadata": {},
      "source": [
        "## Step 1: Loading the Excel File and Retrieving Sheet Names\n",
        "\n",
        "The first task is to load the Excel file and retrieve all available sheet names.\n",
        "We use the `pd.ExcelFile()` function to load the file, and the `sheet_names` attribute to dynamically retrieve the list of sheets.\n"
      ],
      "id": "8a9e2c4e"
    },
    {
      "cell_type": "code",
      "metadata": {},
      "source": [
        "# Load the Excel file\n",
        "excel_file = pd.ExcelFile('Diamonds.xlsx')\n",
        "\n",
        "# Retrieve all sheet names\n",
        "sheet_names = excel_file.sheet_names"
      ],
      "id": "2c2ecdf8",
      "execution_count": null,
      "outputs": []
    },
    {
      "cell_type": "markdown",
      "metadata": {},
      "source": [
        "At this point, `sheet_names` will be a list of all the sheet names in the Excel file.\n",
        "For example,\n"
      ],
      "id": "e3f0b697"
    },
    {
      "cell_type": "code",
      "metadata": {},
      "source": [
        "sheet_names"
      ],
      "id": "70564cab",
      "execution_count": null,
      "outputs": []
    },
    {
      "cell_type": "markdown",
      "metadata": {},
      "source": [
        "## Step 2: Reading and Concatenating Data from All Sheets\n",
        "\n",
        "With the sheet names available, the next step is to read the data from each sheet and concatenate it into a single DataFrame.\n",
        "We use a dictionary comprehension to load each sheet into a DataFrame, and then use the `concat()` function to combine them.\n",
        "We also add a column that records the name of the sheet from which each row originated.\n"
      ],
      "id": "32632037"
    },
    {
      "cell_type": "code",
      "metadata": {},
      "source": [
        "# Read all sheets and concatenate them into one DataFrame, adding a sheet_name column\n",
        "df_dict = {sheet: pd.read_excel(excel_file, sheet_name=sheet) for sheet in sheet_names}\n",
        "\n",
        "data = pd.concat(df.assign(sheet_name=name) for name, df in df_dict.items())"
      ],
      "id": "ccbb598c",
      "execution_count": null,
      "outputs": []
    },
    {
      "cell_type": "markdown",
      "metadata": {},
      "source": [
        "This code reads each sheet into a dictionary (`df_dict`), where the keys are sheet names and the values are DataFrames.\n",
        "The `concat()` function then merges all the DataFrames together into a single DataFrame, and the `sheet_name` column ensures that each row has a record of its original sheet.\n",
        "\n",
        "## Step 3: Inspecting the Combined Data\n",
        "\n",
        "Once the data has been successfully consolidated, it's always a good practice to inspect it and verify that everything was combined correctly.\n",
        "The `head()` and `tail()` functions are useful for this.\n"
      ],
      "id": "2bbbb1f0"
    },
    {
      "cell_type": "code",
      "metadata": {},
      "source": [
        "# View the first few rows of the data\n",
        "data.head()"
      ],
      "id": "35a3d4eb",
      "execution_count": null,
      "outputs": []
    },
    {
      "cell_type": "code",
      "metadata": {},
      "source": [
        "# View the last few rows of the data\n",
        "data.tail()"
      ],
      "id": "b7d09576",
      "execution_count": null,
      "outputs": []
    },
    {
      "cell_type": "markdown",
      "metadata": {},
      "source": [
        "This allows you to verify that:\n",
        "\n",
        "1.  Data from all sheets has been loaded.\n",
        "\n",
        "2.  The `sheet_name` column contains the correct sheet names for each row.\n",
        "\n",
        "## Step 4: Saving the Consolidated Data\n",
        "\n",
        "If you want to save the consolidated data for further use, you can export it to a new Excel file or a CSV file using the following code:\n",
        "\n",
        "#### Saving to an Excel file:\n"
      ],
      "id": "c870cd04"
    },
    {
      "cell_type": "code",
      "metadata": {},
      "source": [
        "data.to_excel('Consolidated_Data.xlsx', index=False)"
      ],
      "id": "23664625",
      "execution_count": null,
      "outputs": []
    },
    {
      "cell_type": "markdown",
      "metadata": {},
      "source": [
        "#### Saving to a CSV file:\n"
      ],
      "id": "a3208f85"
    },
    {
      "cell_type": "code",
      "metadata": {},
      "source": [
        "data.to_csv('Consolidated_Data.csv', index=False)"
      ],
      "id": "8d39b1f8",
      "execution_count": null,
      "outputs": []
    },
    {
      "cell_type": "markdown",
      "metadata": {},
      "source": [
        "# Conclusion\n",
        "\n",
        "By following this tutorial, you’ve learned how to automatically load and consolidate data from multiple Excel sheets into a single pandas DataFrame.\n",
        "This approach dynamically retrieves sheet names, making it flexible and scalable.\n",
        "You can now easily manage datasets that are spread across multiple Excel sheets without needing to manually specify the sheet names each time.\n",
        "\n",
        "### Additional Tips:\n",
        "\n",
        "If the Excel sheets have varying structures (e.g., different column names), you might need to adjust how the sheets are concatenated, ensuring that data is aligned properly.\n"
      ],
      "id": "e7102f68"
    },
    {
      "cell_type": "code",
      "metadata": {},
      "source": [
        "# Read all sheets and concatenate them, aligning columns by name\n",
        "\n",
        "data = pd.concat([df_dict[sheet] for sheet in sheet_names], ignore_index=True, sort=False)\n"
      ],
      "id": "00201fb2",
      "execution_count": null,
      "outputs": []
    },
    {
      "cell_type": "markdown",
      "metadata": {},
      "source": [
        "The `sort = False` parameter prevents pandas from automatically sorting the columns alphabetically, preserving their original order."
      ],
      "id": "ee4cbf5b"
    }
  ],
  "metadata": {
    "kernelspec": {
      "display_name": "Python 3",
      "language": "python",
      "name": "python3"
    }
  },
  "nbformat": 4,
  "nbformat_minor": 5
}